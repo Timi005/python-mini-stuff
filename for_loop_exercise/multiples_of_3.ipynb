{
  "cells": [
    {
      "cell_type": "markdown",
      "metadata": {},
      "source": [
        "# \ud83d\udd01 Python For Loop Exercise: Multiples of 3\n\n",
        "This simple Python notebook uses a `for` loop to:\n\n",
        "1. Print all multiples of 3 between 1 and 50\n",
        "2. Store those values in a list\n",
        "3. Calculate the sum of those multiples\n\n",
        "Good practice for beginners getting used to `for` loops and basic list operations."
      ]
    },
    {
      "cell_type": "code",
      "execution_count": null,
      "metadata": {},
      "outputs": [],
      "source": [
        "print(\"Multiples of 3 from 1 to 50:\")\n",
        "for i in range(1, 51):\n",
        "    if i % 3 == 0:\n",
        "        print(i, end=' ')"
      ]
    },
    {
      "cell_type": "code",
      "execution_count": null,
      "metadata": {},
      "outputs": [],
      "source": [
        "multiples_of_3 = []\n\n",
        "for i in range(1, 51):\n",
        "    if i % 3 == 0:\n",
        "        multiples_of_3.append(i)\n\n",
        "print(\"Stored in list:\", multiples_of_3)"
      ]
    },
    {
      "cell_type": "code",
      "execution_count": null,
      "metadata": {},
      "outputs": [],
      "source": [
        "total = sum(multiples_of_3)\n",
        "print(\"Sum of multiples of 3 from 1 to 50:\", total)"
      ]
    },
    {
      "cell_type": "markdown",
      "metadata": {},
      "source": [
        "### \u2705 Done!\n\n",
        "This was a basic `for` loop exercise that helped:\n",
        "- Use conditional logic (`if i % 3 == 0`)\n",
        "- Append items to a list\n",
        "- Use `sum()` to calculate totals\n\n",
        "More to come!"
      ]
    }
  ],
  "metadata": {
    "kernelspec": {
      "display_name": "Python 3",
      "language": "python",
      "name": "python3"
    },
    "language_info": {
      "name": "python",
      "version": "3.x"
    }
  },
  "nbformat": 4,
  "nbformat_minor": 5
}